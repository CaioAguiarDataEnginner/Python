{
  "nbformat": 4,
  "nbformat_minor": 0,
  "metadata": {
    "colab": {
      "provenance": [],
      "authorship_tag": "ABX9TyPXKnJ+Ws8NeIBMq7mHrq+I",
      "include_colab_link": true
    },
    "kernelspec": {
      "name": "python3",
      "display_name": "Python 3"
    },
    "language_info": {
      "name": "python"
    }
  },
  "cells": [
    {
      "cell_type": "markdown",
      "metadata": {
        "id": "view-in-github",
        "colab_type": "text"
      },
      "source": [
        "<a href=\"https://colab.research.google.com/github/caioaguiardatapy/Python/blob/main/listas_indices_FIAP.ipynb\" target=\"_parent\"><img src=\"https://colab.research.google.com/assets/colab-badge.svg\" alt=\"Open In Colab\"/></a>"
      ]
    },
    {
      "cell_type": "code",
      "source": [
        "equipamentos = []\n",
        "valores = []\n",
        "seriais = []\n",
        "departamentos = []\n",
        "resposta=\"S\"\n",
        "while resposta==\"S\":\n",
        "    equipamentos.append(input(\"Equipamento: \"))\n",
        "    valores.append(float(input(\"valor: \")))\n",
        "    seriais.append(int(input(\"numero de serial: \")))\n",
        "    departamentos.append(input(\"departamento: \"))\n",
        "    resposta=input(\"digite \\\"S\\\" para continuar: \")\n",
        "for indice in range(0,len(equipamentos)):\n",
        "    print(\"Equipamento..: \", (indice+1))\n",
        "    print(\"nome...........: \", equipamentos[indice])\n",
        "    print(\"valor..........: \", valores[indice])\n",
        "    print(\"serial.........: \", seriais[indice])\n",
        "    print(\"departamento...: \", departamentos[indice])"
      ],
      "metadata": {
        "id": "U17n-yJw2t2i"
      },
      "execution_count": null,
      "outputs": []
    },
    {
      "cell_type": "code",
      "source": [
        "  "
      ],
      "metadata": {
        "id": "4IRMqnW16Hll"
      },
      "execution_count": null,
      "outputs": []
    }
  ]
}