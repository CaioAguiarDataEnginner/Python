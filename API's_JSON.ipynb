{
 "cells": [
  {
   "cell_type": "code",
   "execution_count": 3,
   "id": "a9c2f8fb",
   "metadata": {},
   "outputs": [
    {
     "name": "stdout",
     "output_type": "stream",
     "text": [
      "Requirement already satisfied: requests in d:\\anaconda\\lib\\site-packages (2.28.1)\n",
      "Requirement already satisfied: idna<4,>=2.5 in d:\\anaconda\\lib\\site-packages (from requests) (3.3)\n",
      "Requirement already satisfied: charset-normalizer<3,>=2 in d:\\anaconda\\lib\\site-packages (from requests) (2.0.4)\n",
      "Requirement already satisfied: certifi>=2017.4.17 in d:\\anaconda\\lib\\site-packages (from requests) (2022.9.14)\n",
      "Requirement already satisfied: urllib3<1.27,>=1.21.1 in d:\\anaconda\\lib\\site-packages (from requests) (1.26.11)\n",
      "Note: you may need to restart the kernel to use updated packages.\n"
     ]
    }
   ],
   "source": [
    "pip install requests"
   ]
  },
  {
   "cell_type": "code",
   "execution_count": 35,
   "id": "b5f87599",
   "metadata": {},
   "outputs": [],
   "source": [
    "import requests\n",
    "import pandas as pd\n",
    "import numpy as np\n",
    "import openpyxl as op \n",
    "import pprint\n",
    "import json"
   ]
  },
  {
   "cell_type": "code",
   "execution_count": 36,
   "id": "dc9ce194",
   "metadata": {
    "scrolled": false
   },
   "outputs": [
    {
     "name": "stdout",
     "output_type": "stream",
     "text": [
      "{'@odata.context': 'https://was-p.bcnet.bcb.gov.br/olinda/servico/PTAX/versao/v1/odata$metadata#Moedas',\n",
      " 'value': [{'nomeFormatado': 'Dólar australiano',\n",
      "            'simbolo': 'AUD',\n",
      "            'tipoMoeda': 'B'},\n",
      "           {'nomeFormatado': 'Dólar canadense',\n",
      "            'simbolo': 'CAD',\n",
      "            'tipoMoeda': 'A'},\n",
      "           {'nomeFormatado': 'Franco suíço',\n",
      "            'simbolo': 'CHF',\n",
      "            'tipoMoeda': 'A'},\n",
      "           {'nomeFormatado': 'Coroa dinamarquesa',\n",
      "            'simbolo': 'DKK',\n",
      "            'tipoMoeda': 'A'},\n",
      "           {'nomeFormatado': 'Euro', 'simbolo': 'EUR', 'tipoMoeda': 'B'},\n",
      "           {'nomeFormatado': 'Libra Esterlina',\n",
      "            'simbolo': 'GBP',\n",
      "            'tipoMoeda': 'B'},\n",
      "           {'nomeFormatado': 'Iene', 'simbolo': 'JPY', 'tipoMoeda': 'A'},\n",
      "           {'nomeFormatado': 'Coroa norueguesa',\n",
      "            'simbolo': 'NOK',\n",
      "            'tipoMoeda': 'A'},\n",
      "           {'nomeFormatado': 'Coroa sueca', 'simbolo': 'SEK', 'tipoMoeda': 'A'},\n",
      "           {'nomeFormatado': 'Dólar dos Estados Unidos',\n",
      "            'simbolo': 'USD',\n",
      "            'tipoMoeda': 'A'}]}\n"
     ]
    }
   ],
   "source": [
    "# Request\n",
    "link = \"https://olinda.bcb.gov.br/olinda/servico/PTAX/versao/v1/odata/Moedas?$top=100&$format=json\"\n",
    "requisicao = requests.get(link)\n",
    "informacoes = requisicao.json()\n",
    "\n",
    "pprint.pprint(informacoes)"
   ]
  },
  {
   "cell_type": "code",
   "execution_count": 37,
   "id": "692a0560",
   "metadata": {},
   "outputs": [
    {
     "data": {
      "text/html": [
       "<div>\n",
       "<style scoped>\n",
       "    .dataframe tbody tr th:only-of-type {\n",
       "        vertical-align: middle;\n",
       "    }\n",
       "\n",
       "    .dataframe tbody tr th {\n",
       "        vertical-align: top;\n",
       "    }\n",
       "\n",
       "    .dataframe thead th {\n",
       "        text-align: right;\n",
       "    }\n",
       "</style>\n",
       "<table border=\"1\" class=\"dataframe\">\n",
       "  <thead>\n",
       "    <tr style=\"text-align: right;\">\n",
       "      <th></th>\n",
       "      <th>simbolo</th>\n",
       "      <th>nomeFormatado</th>\n",
       "      <th>tipoMoeda</th>\n",
       "    </tr>\n",
       "  </thead>\n",
       "  <tbody>\n",
       "    <tr>\n",
       "      <th>0</th>\n",
       "      <td>AUD</td>\n",
       "      <td>Dólar australiano</td>\n",
       "      <td>B</td>\n",
       "    </tr>\n",
       "    <tr>\n",
       "      <th>1</th>\n",
       "      <td>CAD</td>\n",
       "      <td>Dólar canadense</td>\n",
       "      <td>A</td>\n",
       "    </tr>\n",
       "    <tr>\n",
       "      <th>2</th>\n",
       "      <td>CHF</td>\n",
       "      <td>Franco suíço</td>\n",
       "      <td>A</td>\n",
       "    </tr>\n",
       "    <tr>\n",
       "      <th>3</th>\n",
       "      <td>DKK</td>\n",
       "      <td>Coroa dinamarquesa</td>\n",
       "      <td>A</td>\n",
       "    </tr>\n",
       "    <tr>\n",
       "      <th>4</th>\n",
       "      <td>EUR</td>\n",
       "      <td>Euro</td>\n",
       "      <td>B</td>\n",
       "    </tr>\n",
       "    <tr>\n",
       "      <th>5</th>\n",
       "      <td>GBP</td>\n",
       "      <td>Libra Esterlina</td>\n",
       "      <td>B</td>\n",
       "    </tr>\n",
       "    <tr>\n",
       "      <th>6</th>\n",
       "      <td>JPY</td>\n",
       "      <td>Iene</td>\n",
       "      <td>A</td>\n",
       "    </tr>\n",
       "    <tr>\n",
       "      <th>7</th>\n",
       "      <td>NOK</td>\n",
       "      <td>Coroa norueguesa</td>\n",
       "      <td>A</td>\n",
       "    </tr>\n",
       "    <tr>\n",
       "      <th>8</th>\n",
       "      <td>SEK</td>\n",
       "      <td>Coroa sueca</td>\n",
       "      <td>A</td>\n",
       "    </tr>\n",
       "    <tr>\n",
       "      <th>9</th>\n",
       "      <td>USD</td>\n",
       "      <td>Dólar dos Estados Unidos</td>\n",
       "      <td>A</td>\n",
       "    </tr>\n",
       "  </tbody>\n",
       "</table>\n",
       "</div>"
      ],
      "text/plain": [
       "  simbolo             nomeFormatado tipoMoeda\n",
       "0     AUD         Dólar australiano         B\n",
       "1     CAD           Dólar canadense         A\n",
       "2     CHF              Franco suíço         A\n",
       "3     DKK        Coroa dinamarquesa         A\n",
       "4     EUR                      Euro         B\n",
       "5     GBP           Libra Esterlina         B\n",
       "6     JPY                      Iene         A\n",
       "7     NOK          Coroa norueguesa         A\n",
       "8     SEK               Coroa sueca         A\n",
       "9     USD  Dólar dos Estados Unidos         A"
      ]
     },
     "metadata": {},
     "output_type": "display_data"
    }
   ],
   "source": [
    "# Base abrindo arquivo json e convertendo para dados estruturados\n",
    "base = pd.DataFrame(informacoes['value'])\n",
    "display(base)"
   ]
  },
  {
   "cell_type": "code",
   "execution_count": null,
   "id": "6fe98e1e",
   "metadata": {},
   "outputs": [],
   "source": []
  }
 ],
 "metadata": {
  "kernelspec": {
   "display_name": "Python 3 (ipykernel)",
   "language": "python",
   "name": "python3"
  },
  "language_info": {
   "codemirror_mode": {
    "name": "ipython",
    "version": 3
   },
   "file_extension": ".py",
   "mimetype": "text/x-python",
   "name": "python",
   "nbconvert_exporter": "python",
   "pygments_lexer": "ipython3",
   "version": "3.9.13"
  }
 },
 "nbformat": 4,
 "nbformat_minor": 5
}
