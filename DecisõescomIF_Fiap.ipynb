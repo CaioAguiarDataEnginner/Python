{
  "nbformat": 4,
  "nbformat_minor": 0,
  "metadata": {
    "colab": {
      "provenance": [],
      "authorship_tag": "ABX9TyPtEevVijqGMv06xJSHnmL0",
      "include_colab_link": true
    },
    "kernelspec": {
      "name": "python3",
      "display_name": "Python 3"
    },
    "language_info": {
      "name": "python"
    }
  },
  "cells": [
    {
      "cell_type": "markdown",
      "metadata": {
        "id": "view-in-github",
        "colab_type": "text"
      },
      "source": [
        "<a href=\"https://colab.research.google.com/github/caioaguiardatapy/Python/blob/main/Decis%C3%B5escomIF_Fiap.ipynb\" target=\"_parent\"><img src=\"https://colab.research.google.com/assets/colab-badge.svg\" alt=\"Open In Colab\"/></a>"
      ]
    },
    {
      "cell_type": "markdown",
      "source": [
        "Utilizando o **IF**"
      ],
      "metadata": {
        "id": "aQPIBOTefvtY"
      }
    },
    {
      "cell_type": "code",
      "source": [
        "nome=input (\"Digite o nome: \")\n",
        "idade=int(input(\"Digite a Idade: \"))\n",
        "doenca_infectocontagiosa=input(\"Suspeita de doença infectocontagiosa?\").upper()\n",
        "if idade>=65: \n",
        "    print(\"O paciente \" + nome + \" possui atendimento prioritário!\")\n",
        "elif doenca_infectocontagiosa==\"Sim\":\n",
        "    print(\"O paciente \" + nome + \"deve ser direcionado para sala de espera reservada. \")\n",
        "else: \n",
        "    print(\"O paciente \" + nome + \" Não possui atendimento prioritário e ir até a sala de espera comum\")"
      ],
      "metadata": {
        "id": "IK_PpZOscmhc"
      },
      "execution_count": null,
      "outputs": []
    }
  ]
}