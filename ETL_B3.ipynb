{
 "cells": [
  {
   "cell_type": "code",
   "execution_count": 12,
   "id": "cd2f168e",
   "metadata": {},
   "outputs": [],
   "source": [
    "#import de bibliotecas\n",
    "import pandas as pd"
   ]
  },
  {
   "cell_type": "code",
   "execution_count": 93,
   "id": "3d8dfc78",
   "metadata": {},
   "outputs": [],
   "source": [
    "#criando mascara para txt e automatizando para receber mais dados\n",
    "\n",
    "def read_files(path, n_file, year_date, type_file):\n",
    "\n",
    "    _file = f'{path}{n_file}{year_date}.{type_file}'\n",
    "    \n",
    "    colspecs =[(2,10), \n",
    "              (10,12), \n",
    "              (12,24), \n",
    "              (27,39),  \n",
    "              (56,69), \n",
    "              (69,82), \n",
    "              (82,95), \n",
    "              (108,121), \n",
    "              (152,170),\n",
    "              (170,188)]\n",
    "    names = ['Data_pregao', 'Codbdi', 'Sigla_acao', 'nome_acao', 'Preco_abertura', 'Preco_Maximo', 'Preco_Minimo', 'Preco_Fechamento', \n 'Quantidade_negociacao', 'Volume_de_negociacao']",
    "    df = pd.read_fwf(_file, colspecs=colspecs, names=names, skiprows =1)\n",
    "    \n",
    "    return df"
   ]
  },
  {
   "cell_type": "code",
   "execution_count": 94,
   "id": "64193c8a",
   "metadata": {},
   "outputs": [],
   "source": [
    "#Filtrar ações\n",
    "def filter_stocks(df):\n",
    "    df = df [df['Codbdi']== 2]\n",
    "    df = df.drop(['Codbdi'], 1)\n",
    "    \n",
    "    return df" \n
   ]
  },
  {
   "cell_type": "code",
   "execution_count": 95,
   "id": "c4276647",
   "metadata": {},
   "outputs": [],
   "source": [
    "# ajustes data\n",
    "def parse_date(df):\n",
    "    df['Data_pregao'] = pd.to_datetime(df['Data_pregao'], format = '%Y%m%d') #ajustar campo de data\n",
    "    \n",
    "    return df"
   ]
  },
  {
   "cell_type": "code",
   "execution_count": 96,
   "id": "7979be30",
   "metadata": {},
   "outputs": [],
   "source": [
    "# ajustes numéricos\n",
    "def parse_values(df):\n",
    "    df['Preco_abertura'] = (df['Preco_abertura'] /100).astype(float)\n",
    "    df['Preco_Maximo'] = (df['Preco_Maximo'] /100).astype(float)\n",
    "    df['Preco_Minimo'] = (df['Preco_Minimo'] /100).astype(float)\n",
    "    df['Preco_Fechamento'] = (df['Preco_Fechamento'] /100).astype(float)\n",
    "    \n",
    "    return df\n"
   ]
  },
  {
   "cell_type": "code",
   "execution_count": 97,
   "id": "87380fdb",
   "metadata": {},
   "outputs": [],
   "source": [
    "#junção dos files\n",
    "\n",
    "def concat_files(path, n_file, year_date, type_file, final_file):\n",
    "    for i, y in enumerate(year_date):\n",
    "        df = read_files(path, n_file, y, type_file)\n",
    "        df = filter_stocks(df)\n",
    "        df = parse_date(df)\n",
    "        df = parse_values(df)\n",
    "        \n",
    "        if i==0:\n",
    "            df_final = df\n",
    "        else:\n",
    "            df_final = pd.concat([df_final, df]) #concatenar a versão atual com os novos dados\n",
    "            \n",
    "    df_final.to_csv(f'{path}//{final_file}', index=False) #salvar base em CSV\n",
    "        "
   ]
  },
  {
   "cell_type": "code",
   "execution_count": null,
   "id": "cf8873db",
   "metadata": {},
   "outputs": [],
   "source": [
    "#executar script\n",
    "year_date = ['2018', '2019', '2020']\n",
    "path=f'D:/Pyhton/txt/'\n",
    "n_file = 'COTAHIST_A'\n",
    "type_file = 'txt'\n",
    "final_file = 'all_bovesp.csv'\n",
    "\n",
    "concat_files( path, n_file, year_date, type_file, final_file)"
   ]
  },
  {
   "cell_type": "code",
   "execution_count": null,
   "id": "459a86c6",
   "metadata": {},
   "outputs": [],
   "source": []
  }
 ],
 "metadata": {
  "kernelspec": {
   "display_name": "Python 3 (ipykernel)",
   "language": "python",
   "name": "python3"
  },
  "language_info": {
   "codemirror_mode": {
    "name": "ipython",
    "version": 3
   },
   "file_extension": ".py",
   "mimetype": "text/x-python",
   "name": "python",
   "nbconvert_exporter": "python",
   "pygments_lexer": "ipython3",
   "version": "3.9.13"
  }
 },
 "nbformat": 4,
 "nbformat_minor": 5
}
